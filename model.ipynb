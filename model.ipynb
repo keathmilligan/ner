{
 "cells": [
  {
   "cell_type": "markdown",
   "metadata": {},
   "source": [
    "# Prepare Dataset and Train Model "
   ]
  },
  {
   "cell_type": "markdown",
   "metadata": {},
   "source": [
    "## Load Dataset\n",
    "\n",
    "Load the dataset from a JSON file."
   ]
  },
  {
   "cell_type": "code",
   "execution_count": 29,
   "metadata": {},
   "outputs": [
    {
     "name": "stdout",
     "output_type": "stream",
     "text": [
      "DatasetDict({\n",
      "    train: Dataset({\n",
      "        features: ['text', 'entities'],\n",
      "        num_rows: 11084\n",
      "    })\n",
      "})\n"
     ]
    }
   ],
   "source": [
    "from datasets import load_dataset\n",
    "\n",
    "# Load the dataset from a JSONL file\n",
    "dataset = load_dataset(\"json\", data_files=\"data/ner_dataset.json\")\n",
    "\n",
    "# Check the structure\n",
    "print(dataset)\n"
   ]
  },
  {
   "cell_type": "markdown",
   "metadata": {},
   "source": [
    "## Split Dataset\n",
    "\n",
    "Reserve 10% for model testing."
   ]
  },
  {
   "cell_type": "code",
   "execution_count": 30,
   "metadata": {},
   "outputs": [],
   "source": [
    "# Split the dataset\n",
    "dataset = dataset[\"train\"].train_test_split(test_size=0.1)  # 10% for testing\n",
    "\n",
    "train_dataset = dataset[\"train\"]\n",
    "test_dataset = dataset[\"test\"]\n"
   ]
  },
  {
   "cell_type": "markdown",
   "metadata": {},
   "source": [
    "## Tokenize Dataset"
   ]
  },
  {
   "cell_type": "code",
   "execution_count": 34,
   "metadata": {},
   "outputs": [
    {
     "name": "stdout",
     "output_type": "stream",
     "text": [
      "{'text': 'An error on the checkout page of xhaiuszeds.shop caused some transactions to fail during peak hours.', 'entities': [{'end': 48, 'label': 'DOMAIN', 'start': 33}], 'input_ids': [0, 4688, 5849, 15, 5, 28429, 1842, 9, 3023, 30279, 687, 329, 12080, 4, 22799, 1726, 103, 5538, 7, 5998, 148, 4996, 722, 4, 2, 1, 1, 1, 1, 1, 1, 1, 1, 1, 1, 1, 1, 1, 1, 1, 1, 1, 1, 1, 1, 1, 1, 1, 1, 1, 1, 1, 1, 1, 1, 1, 1, 1, 1, 1, 1, 1, 1, 1, 1, 1, 1, 1, 1, 1, 1, 1, 1, 1, 1, 1, 1, 1, 1, 1, 1, 1, 1, 1, 1, 1, 1, 1, 1, 1, 1, 1, 1, 1, 1, 1, 1, 1, 1, 1, 1, 1, 1, 1, 1, 1, 1, 1, 1, 1, 1, 1, 1, 1, 1, 1, 1, 1, 1, 1, 1, 1, 1, 1, 1, 1, 1, 1], 'attention_mask': [1, 1, 1, 1, 1, 1, 1, 1, 1, 1, 1, 1, 1, 1, 1, 1, 1, 1, 1, 1, 1, 1, 1, 1, 1, 0, 0, 0, 0, 0, 0, 0, 0, 0, 0, 0, 0, 0, 0, 0, 0, 0, 0, 0, 0, 0, 0, 0, 0, 0, 0, 0, 0, 0, 0, 0, 0, 0, 0, 0, 0, 0, 0, 0, 0, 0, 0, 0, 0, 0, 0, 0, 0, 0, 0, 0, 0, 0, 0, 0, 0, 0, 0, 0, 0, 0, 0, 0, 0, 0, 0, 0, 0, 0, 0, 0, 0, 0, 0, 0, 0, 0, 0, 0, 0, 0, 0, 0, 0, 0, 0, 0, 0, 0, 0, 0, 0, 0, 0, 0, 0, 0, 0, 0, 0, 0, 0, 0], 'labels': [0, 0, 0, 0, 0, 0, 0, 0, 2, 2, 2, 2, 2, 2, 2, 0, 0, 0, 0, 0, 0, 0, 0, 0, 0, 0, 0, 0, 0, 0, 0, 0, 0, 0, 0, 0, 0, 0, 0, 0, 0, 0, 0, 0, 0, 0, 0, 0, 0, 0, 0, 0, 0, 0, 0, 0, 0, 0, 0, 0, 0, 0, 0, 0, 0, 0, 0, 0, 0, 0, 0, 0, 0, 0, 0, 0, 0, 0, 0, 0, 0, 0, 0, 0, 0, 0, 0, 0, 0, 0, 0, 0, 0, 0, 0, 0, 0, 0, 0, 0, 0, 0, 0, 0, 0, 0, 0, 0, 0, 0, 0, 0, 0, 0, 0, 0, 0, 0, 0, 0, 0, 0, 0, 0, 0, 0, 0, 0]}\n",
      "{'text': '2024-12-29 14:38:19 [INFO]: Contact form submitted by nho@gmail.com.', 'entities': [{'end': 67, 'label': 'EMAIL', 'start': 54}, {'end': 67, 'label': 'DOMAIN', 'start': 58}], 'input_ids': [0, 844, 1978, 12, 1092, 12, 2890, 501, 35, 3170, 35, 1646, 646, 48050, 42645, 4493, 1026, 4813, 30, 295, 5410, 1039, 14551, 4, 175, 4, 2, 1, 1, 1, 1, 1, 1, 1, 1, 1, 1, 1, 1, 1, 1, 1, 1, 1, 1, 1, 1, 1, 1, 1, 1, 1, 1, 1, 1, 1, 1, 1, 1, 1, 1, 1, 1, 1, 1, 1, 1, 1, 1, 1, 1, 1, 1, 1, 1, 1, 1, 1, 1, 1, 1, 1, 1, 1, 1, 1, 1, 1, 1, 1, 1, 1, 1, 1, 1, 1, 1, 1, 1, 1, 1, 1, 1, 1, 1, 1, 1, 1, 1, 1, 1, 1, 1, 1, 1, 1, 1, 1, 1, 1, 1, 1, 1, 1, 1, 1, 1, 1], 'attention_mask': [1, 1, 1, 1, 1, 1, 1, 1, 1, 1, 1, 1, 1, 1, 1, 1, 1, 1, 1, 1, 1, 1, 1, 1, 1, 1, 1, 0, 0, 0, 0, 0, 0, 0, 0, 0, 0, 0, 0, 0, 0, 0, 0, 0, 0, 0, 0, 0, 0, 0, 0, 0, 0, 0, 0, 0, 0, 0, 0, 0, 0, 0, 0, 0, 0, 0, 0, 0, 0, 0, 0, 0, 0, 0, 0, 0, 0, 0, 0, 0, 0, 0, 0, 0, 0, 0, 0, 0, 0, 0, 0, 0, 0, 0, 0, 0, 0, 0, 0, 0, 0, 0, 0, 0, 0, 0, 0, 0, 0, 0, 0, 0, 0, 0, 0, 0, 0, 0, 0, 0, 0, 0, 0, 0, 0, 0, 0, 0], 'labels': [0, 0, 0, 0, 0, 0, 0, 0, 0, 0, 0, 0, 0, 0, 0, 0, 0, 0, 0, 5, 5, 5, 2, 2, 2, 0, 0, 0, 0, 0, 0, 0, 0, 0, 0, 0, 0, 0, 0, 0, 0, 0, 0, 0, 0, 0, 0, 0, 0, 0, 0, 0, 0, 0, 0, 0, 0, 0, 0, 0, 0, 0, 0, 0, 0, 0, 0, 0, 0, 0, 0, 0, 0, 0, 0, 0, 0, 0, 0, 0, 0, 0, 0, 0, 0, 0, 0, 0, 0, 0, 0, 0, 0, 0, 0, 0, 0, 0, 0, 0, 0, 0, 0, 0, 0, 0, 0, 0, 0, 0, 0, 0, 0, 0, 0, 0, 0, 0, 0, 0, 0, 0, 0, 0, 0, 0, 0, 0]}\n"
     ]
    }
   ],
   "source": [
    "# Tokenize the dataset\n",
    "\n",
    "import token\n",
    "from transformers import AutoTokenizer\n",
    "\n",
    "label_map = {\n",
    "    \"O\": 0,  # \"O\" stands for \"Outside\" (no entity)\n",
    "    \"COMPANY\": 1,\n",
    "    \"DOMAIN\": 2,\n",
    "    \"IP_ADDR\": 3,\n",
    "    \"URL\": 4,\n",
    "    \"EMAIL\": 5,\n",
    "}\n",
    "\n",
    "tokenizer = AutoTokenizer.from_pretrained(\"roberta-base\")\n",
    "\n",
    "def tokenize_and_align_labels(examples):\n",
    "    tokenized_inputs = tokenizer(\n",
    "        examples[\"text\"], truncation=True, padding=\"max_length\", max_length=128, return_offsets_mapping=True\n",
    "    )\n",
    "    labels = []\n",
    "    for i, offsets in enumerate(tokenized_inputs[\"offset_mapping\"]):\n",
    "        entity_positions = examples[\"entities\"][i]\n",
    "        label_ids = [label_map[\"O\"]] * len(offsets)  # Initialize all tokens as \"O\"\n",
    "        for entity in entity_positions:\n",
    "            for idx, (start, end) in enumerate(offsets):\n",
    "                if start >= entity[\"start\"] and end <= entity[\"end\"]:\n",
    "                    label_ids[idx] = label_map[entity[\"label\"]]  # Use numeric ID for the label\n",
    "        labels.append(label_ids)\n",
    "    tokenized_inputs[\"labels\"] = labels\n",
    "    tokenized_inputs.pop(\"offset_mapping\")  # Remove offset mapping as it’s not needed for training\n",
    "    return tokenized_inputs\n",
    "\n",
    "# Apply tokenization in batches\n",
    "tokenized_train_dataset = train_dataset.map(tokenize_and_align_labels, batched=True)\n",
    "tokenized_test_dataset = test_dataset.map(tokenize_and_align_labels, batched=True)\n",
    "\n",
    "print(tokenized_train_dataset[0])\n",
    "print(tokenized_test_dataset[0])"
   ]
  },
  {
   "cell_type": "markdown",
   "metadata": {},
   "source": [
    "# Train the Model"
   ]
  },
  {
   "cell_type": "code",
   "execution_count": 35,
   "metadata": {},
   "outputs": [
    {
     "name": "stderr",
     "output_type": "stream",
     "text": [
      "Some weights of RobertaForTokenClassification were not initialized from the model checkpoint at roberta-base and are newly initialized: ['classifier.bias', 'classifier.weight']\n",
      "You should probably TRAIN this model on a down-stream task to be able to use it for predictions and inference.\n",
      "/Users/kmilligan/Library/Caches/pypoetry/virtualenvs/ner-zCheM3vK-py3.12/lib/python3.12/site-packages/transformers/training_args.py:1568: FutureWarning: `evaluation_strategy` is deprecated and will be removed in version 4.46 of 🤗 Transformers. Use `eval_strategy` instead\n",
      "  warnings.warn(\n",
      "/var/folders/1n/tq5jk8rd6ld4v4237b0vc7v40000gn/T/ipykernel_74103/2812796709.py:19: FutureWarning: `tokenizer` is deprecated and will be removed in version 5.0.0 for `Trainer.__init__`. Use `processing_class` instead.\n",
      "  trainer = Trainer(\n"
     ]
    },
    {
     "data": {
      "application/vnd.jupyter.widget-view+json": {
       "model_id": "3b6f66cf64514c6a8e2be9f5ddb79233",
       "version_major": 2,
       "version_minor": 0
      },
      "text/plain": [
       "  0%|          | 0/1872 [00:00<?, ?it/s]"
      ]
     },
     "metadata": {},
     "output_type": "display_data"
    },
    {
     "name": "stdout",
     "output_type": "stream",
     "text": [
      "{'loss': 0.0532, 'grad_norm': 0.06708976626396179, 'learning_rate': 1.4658119658119658e-05, 'epoch': 0.8}\n"
     ]
    },
    {
     "data": {
      "application/vnd.jupyter.widget-view+json": {
       "model_id": "671b52e90cdc4ec286884475edad919d",
       "version_major": 2,
       "version_minor": 0
      },
      "text/plain": [
       "  0%|          | 0/139 [00:00<?, ?it/s]"
      ]
     },
     "metadata": {},
     "output_type": "display_data"
    },
    {
     "name": "stdout",
     "output_type": "stream",
     "text": [
      "{'eval_loss': 0.002198802540078759, 'eval_runtime': 4.6455, 'eval_samples_per_second': 238.724, 'eval_steps_per_second': 29.921, 'epoch': 1.0}\n",
      "{'loss': 0.0016, 'grad_norm': 0.011260145343840122, 'learning_rate': 9.316239316239318e-06, 'epoch': 1.6}\n"
     ]
    },
    {
     "data": {
      "application/vnd.jupyter.widget-view+json": {
       "model_id": "0a3e4dc0b9bd4295b309dbaa4c198c9a",
       "version_major": 2,
       "version_minor": 0
      },
      "text/plain": [
       "  0%|          | 0/139 [00:00<?, ?it/s]"
      ]
     },
     "metadata": {},
     "output_type": "display_data"
    },
    {
     "name": "stdout",
     "output_type": "stream",
     "text": [
      "{'eval_loss': 0.0002460828691255301, 'eval_runtime': 4.6521, 'eval_samples_per_second': 238.389, 'eval_steps_per_second': 29.879, 'epoch': 2.0}\n",
      "{'loss': 0.0005, 'grad_norm': 0.0021937601268291473, 'learning_rate': 3.974358974358974e-06, 'epoch': 2.4}\n"
     ]
    },
    {
     "data": {
      "application/vnd.jupyter.widget-view+json": {
       "model_id": "89b50b58eddc424e9a48f79175f313d4",
       "version_major": 2,
       "version_minor": 0
      },
      "text/plain": [
       "  0%|          | 0/139 [00:00<?, ?it/s]"
      ]
     },
     "metadata": {},
     "output_type": "display_data"
    },
    {
     "name": "stdout",
     "output_type": "stream",
     "text": [
      "{'eval_loss': 9.741134999785572e-05, 'eval_runtime': 4.7021, 'eval_samples_per_second': 235.854, 'eval_steps_per_second': 29.561, 'epoch': 3.0}\n",
      "{'train_runtime': 431.4505, 'train_samples_per_second': 69.359, 'train_steps_per_second': 4.339, 'train_loss': 0.014817170934098909, 'epoch': 3.0}\n"
     ]
    },
    {
     "data": {
      "text/plain": [
       "TrainOutput(global_step=1872, training_loss=0.014817170934098909, metrics={'train_runtime': 431.4505, 'train_samples_per_second': 69.359, 'train_steps_per_second': 4.339, 'total_flos': 1954897055193600.0, 'train_loss': 0.014817170934098909, 'epoch': 3.0})"
      ]
     },
     "execution_count": 35,
     "metadata": {},
     "output_type": "execute_result"
    }
   ],
   "source": [
    "from transformers import AutoModelForTokenClassification, TrainingArguments, Trainer\n",
    "\n",
    "model = AutoModelForTokenClassification.from_pretrained(\n",
    "    \"roberta-base\", num_labels=len(label_map)\n",
    ")\n",
    "\n",
    "training_args = TrainingArguments(\n",
    "    output_dir=\"models/ner\",\n",
    "    evaluation_strategy=\"epoch\",\n",
    "    save_strategy=\"epoch\",\n",
    "    learning_rate=2e-5,\n",
    "    per_device_train_batch_size=16,\n",
    "    num_train_epochs=3,\n",
    "    weight_decay=0.01,\n",
    "    logging_dir=\"logs\",\n",
    "    save_total_limit=2,\n",
    ")\n",
    "\n",
    "trainer = Trainer(\n",
    "    model=model,\n",
    "    args=training_args,\n",
    "    train_dataset=tokenized_train_dataset,\n",
    "    eval_dataset=tokenized_test_dataset,\n",
    "    tokenizer=tokenizer,\n",
    ")\n",
    "\n",
    "trainer.train()\n"
   ]
  },
  {
   "cell_type": "markdown",
   "metadata": {},
   "source": [
    "## Save the Trained Model"
   ]
  },
  {
   "cell_type": "code",
   "execution_count": 36,
   "metadata": {},
   "outputs": [
    {
     "data": {
      "text/plain": [
       "('models/ner/tokenizer_config.json',\n",
       " 'models/ner/special_tokens_map.json',\n",
       " 'models/ner/vocab.json',\n",
       " 'models/ner/merges.txt',\n",
       " 'models/ner/added_tokens.json',\n",
       " 'models/ner/tokenizer.json')"
      ]
     },
     "execution_count": 36,
     "metadata": {},
     "output_type": "execute_result"
    }
   ],
   "source": [
    "trainer.save_model(\"models/ner\")\n",
    "tokenizer.save_pretrained(\"models/ner\")"
   ]
  },
  {
   "cell_type": "markdown",
   "metadata": {},
   "source": [
    "## Export Model to ONNX\n",
    "\n",
    "Use:\n",
    "\n",
    "```\n",
    "optimum-cli export onnx --model models/ner --task token-classification models/onnx\n",
    "```"
   ]
  },
  {
   "cell_type": "markdown",
   "metadata": {},
   "source": [
    "## Verify Exported Model"
   ]
  },
  {
   "cell_type": "code",
   "execution_count": 37,
   "metadata": {},
   "outputs": [
    {
     "name": "stdout",
     "output_type": "stream",
     "text": [
      "ONNX Model Outputs: [array([[[ 4.4469266 ,  2.2834892 ,  1.2277882 , -3.4402235 ,\n",
      "         -2.331243  , -3.9127386 ],\n",
      "        [ 7.983002  , -0.6029357 , -0.89352286, -3.0848005 ,\n",
      "         -1.571463  , -3.4708927 ],\n",
      "        [ 4.613029  ,  1.105935  ,  1.8005015 , -3.7764654 ,\n",
      "         -2.3312867 , -3.7697682 ],\n",
      "        [ 3.2291615 ,  2.4427762 ,  2.321777  , -3.7389376 ,\n",
      "         -2.4622188 , -3.6951158 ],\n",
      "        [ 2.5670388 ,  3.318974  ,  2.627408  , -3.634867  ,\n",
      "         -2.5895925 , -3.8985283 ],\n",
      "        [ 3.1018884 ,  3.634954  ,  2.065163  , -3.442695  ,\n",
      "         -2.5756822 , -4.1144876 ]]], dtype=float32)]\n"
     ]
    }
   ],
   "source": [
    "import onnx\n",
    "import torch\n",
    "import onnxruntime as ort\n",
    "\n",
    "onnx_model_path = \"models/onnx/model.onnx\"\n",
    "\n",
    "# Load and check the ONNX model\n",
    "onnx_model = onnx.load(onnx_model_path)\n",
    "onnx.checker.check_model(onnx_model)\n",
    "\n",
    "# Run inference with ONNX Runtime\n",
    "session = ort.InferenceSession(onnx_model_path)\n",
    "\n",
    "# Prepare dummy input\n",
    "input_ids = [[101, 2054, 2003, 1996, 2171, 102]]  # Token IDs (example)\n",
    "attention_mask = [[1, 1, 1, 1, 1, 1]]  # Attention mask\n",
    "\n",
    "inputs = {\n",
    "    \"input_ids\": torch.tensor(input_ids, dtype=torch.long).numpy(),\n",
    "    \"attention_mask\": torch.tensor(attention_mask, dtype=torch.long).numpy(),\n",
    "}\n",
    "\n",
    "# Run the ONNX model\n",
    "outputs = session.run(None, inputs)\n",
    "print(\"ONNX Model Outputs:\", outputs)\n"
   ]
  },
  {
   "cell_type": "markdown",
   "metadata": {},
   "source": [
    "# Test"
   ]
  },
  {
   "cell_type": "markdown",
   "metadata": {},
   "source": [
    "## Evaluate Model with Test Data"
   ]
  },
  {
   "cell_type": "code",
   "execution_count": 40,
   "metadata": {},
   "outputs": [
    {
     "name": "stderr",
     "output_type": "stream",
     "text": [
      "/var/folders/1n/tq5jk8rd6ld4v4237b0vc7v40000gn/T/ipykernel_74103/3048475026.py:42: FutureWarning: `tokenizer` is deprecated and will be removed in version 5.0.0 for `Trainer.__init__`. Use `processing_class` instead.\n",
      "  trainer = Trainer(\n"
     ]
    },
    {
     "data": {
      "application/vnd.jupyter.widget-view+json": {
       "model_id": "39d5c90eac294ecd931f947cb42aa2df",
       "version_major": 2,
       "version_minor": 0
      },
      "text/plain": [
       "  0%|          | 0/139 [00:00<?, ?it/s]"
      ]
     },
     "metadata": {},
     "output_type": "display_data"
    },
    {
     "name": "stdout",
     "output_type": "stream",
     "text": [
      "{'eval_loss': 9.741134999785572e-05, 'eval_model_preparation_time': 0.0012, 'eval_precision': 0.9999004530536745, 'eval_recall': 0.9999957645783214, 'eval_f1': 0.9999481010928575, 'eval_runtime': 5.9452, 'eval_samples_per_second': 186.536, 'eval_steps_per_second': 23.38}\n"
     ]
    }
   ],
   "source": [
    "from transformers import Trainer, TrainingArguments\n",
    "from sklearn.metrics import classification_report\n",
    "import numpy as np\n",
    "\n",
    "# Tokenized test dataset (ensure it's already tokenized)\n",
    "tokenized_test_dataset = test_dataset.map(tokenize_and_align_labels, batched=True)\n",
    "\n",
    "# Define the label map and ensure keys are plain integers\n",
    "id2label = {int(v): k for k, v in label_map.items()}\n",
    "label2id = {k: int(k) for k, v in id2label.items()}\n",
    "\n",
    "def compute_metrics(p):\n",
    "    predictions, labels = p\n",
    "    predictions = np.argmax(predictions, axis=2)\n",
    "\n",
    "    # Remove ignored index (-100) from predictions and labels\n",
    "    true_predictions = [\n",
    "        [id2label[int(p)] for (p, l) in zip(pred, label) if l != -100]\n",
    "        for pred, label in zip(predictions, labels)\n",
    "    ]\n",
    "    true_labels = [\n",
    "        [id2label[int(l)] for (p, l) in zip(pred, label) if l != -100]\n",
    "        for pred, label in zip(predictions, labels)\n",
    "    ]\n",
    "\n",
    "    # Use sklearn's classification report for detailed metrics\n",
    "    results = classification_report(\n",
    "        [item for sublist in true_labels for item in sublist],\n",
    "        [item for sublist in true_predictions for item in sublist],\n",
    "        output_dict=True,\n",
    "    )\n",
    "    return {\n",
    "        \"precision\": results[\"macro avg\"][\"precision\"],\n",
    "        \"recall\": results[\"macro avg\"][\"recall\"],\n",
    "        \"f1\": results[\"macro avg\"][\"f1-score\"],\n",
    "    }\n",
    "\n",
    "# Load model\n",
    "model = AutoModelForTokenClassification.from_pretrained(\"models/ner\")\n",
    "\n",
    "# Define trainer\n",
    "trainer = Trainer(\n",
    "    model=model,\n",
    "    eval_dataset=tokenized_test_dataset,\n",
    "    tokenizer=tokenizer,\n",
    "    compute_metrics=compute_metrics,\n",
    ")\n",
    "\n",
    "# Evaluate\n",
    "results = trainer.evaluate()\n",
    "print(results)\n"
   ]
  },
  {
   "cell_type": "markdown",
   "metadata": {},
   "source": [
    "## Test ONNX Model"
   ]
  },
  {
   "cell_type": "code",
   "execution_count": 41,
   "metadata": {},
   "outputs": [
    {
     "name": "stdout",
     "output_type": "stream",
     "text": [
      "[{'entity_group': 'COMPANY', 'score': np.float32(0.731601), 'word': ' Monkres', 'start': 12, 'end': 19}, {'entity_group': 'COMPANY', 'score': np.float32(0.99096173), 'word': ' ABC Corp', 'start': 29, 'end': 37}]\n"
     ]
    }
   ],
   "source": [
    "from optimum.onnxruntime import ORTModelForTokenClassification\n",
    "from transformers import AutoTokenizer, pipeline\n",
    "\n",
    "onnx_path = \"models/onnx\"\n",
    "trained_model_path = \"models/ner\"\n",
    "\n",
    "# Load the ONNX model\n",
    "onnx_model = ORTModelForTokenClassification.from_pretrained(onnx_path)\n",
    "tokenizer = AutoTokenizer.from_pretrained(trained_model_path)\n",
    "\n",
    "# Define the label map\n",
    "label_map = {0: \"O\", 1: \"COMPANY\", 2: \"DOMAIN\", 3: \"IP_ADDR\", 4: \"URL\", 5: \"EMAIL\"}\n",
    "\n",
    "# Update the model's config with the label map\n",
    "onnx_model.config.id2label = label_map\n",
    "onnx_model.config.label2id = {v: k for k, v in label_map.items()}\n",
    "\n",
    "# Create a pipeline for NER\n",
    "onnx_pipeline = pipeline(\n",
    "    \"ner\",\n",
    "    model=onnx_model,\n",
    "    tokenizer=tokenizer,\n",
    "    device=0,\n",
    "    aggregation_strategy=\"simple\"\n",
    ")\n",
    "\n",
    "# Test inference\n",
    "text = \"Dr. Lynn H. Monkres works at ABC Corp.\"\n",
    "results = onnx_pipeline(text)\n",
    "print(results)\n"
   ]
  }
 ],
 "metadata": {
  "kernelspec": {
   "display_name": "ner-zCheM3vK-py3.12",
   "language": "python",
   "name": "python3"
  },
  "language_info": {
   "codemirror_mode": {
    "name": "ipython",
    "version": 3
   },
   "file_extension": ".py",
   "mimetype": "text/x-python",
   "name": "python",
   "nbconvert_exporter": "python",
   "pygments_lexer": "ipython3",
   "version": "3.12.8"
  }
 },
 "nbformat": 4,
 "nbformat_minor": 2
}
